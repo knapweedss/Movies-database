{
 "cells": [
  {
   "cell_type": "code",
   "execution_count": 1,
   "id": "bc7cc4f8",
   "metadata": {},
   "outputs": [],
   "source": [
    "# параметры подключения к БД (извините, секрет)\n",
    "PASSWORD = ''\n",
    "HOST = ''\n",
    "USER = ''\n",
    "DB = ''"
   ]
  },
  {
   "cell_type": "code",
   "execution_count": 500,
   "id": "61f17294",
   "metadata": {},
   "outputs": [],
   "source": [
    "mysql_connect = mysql.connector.connect(user=USER, password=PASSWORD,\n",
    "                                            host=HOST,\n",
    "                                            port=3308,\n",
    "                                            database=DB, auth_plugin='mysql_native_password')\n",
    "cursor = mysql_connect.cursor()"
   ]
  },
  {
   "cell_type": "markdown",
   "id": "6d54d6fa",
   "metadata": {},
   "source": [
    "# Часть 1. Получаем данные"
   ]
  },
  {
   "cell_type": "markdown",
   "id": "2301e48e",
   "metadata": {},
   "source": [
    "└[∵┌]└[ ∵ ]┘[┐∵]┘"
   ]
  },
  {
   "cell_type": "markdown",
   "id": "837b619e",
   "metadata": {},
   "source": [
    "# Данные\n",
    "https://www.kaggle.com/datasets/tmdb/tmdb-movie-metadata"
   ]
  },
  {
   "cell_type": "code",
   "execution_count": 3,
   "id": "ec2013f5",
   "metadata": {},
   "outputs": [
    {
     "data": {
      "text/html": [
       "<div>\n",
       "<style scoped>\n",
       "    .dataframe tbody tr th:only-of-type {\n",
       "        vertical-align: middle;\n",
       "    }\n",
       "\n",
       "    .dataframe tbody tr th {\n",
       "        vertical-align: top;\n",
       "    }\n",
       "\n",
       "    .dataframe thead th {\n",
       "        text-align: right;\n",
       "    }\n",
       "</style>\n",
       "<table border=\"1\" class=\"dataframe\">\n",
       "  <thead>\n",
       "    <tr style=\"text-align: right;\">\n",
       "      <th></th>\n",
       "      <th>movie_id</th>\n",
       "      <th>title</th>\n",
       "      <th>cast</th>\n",
       "      <th>crew</th>\n",
       "    </tr>\n",
       "  </thead>\n",
       "  <tbody>\n",
       "    <tr>\n",
       "      <th>0</th>\n",
       "      <td>19995</td>\n",
       "      <td>Avatar</td>\n",
       "      <td>[{\"cast_id\": 242, \"character\": \"Jake Sully\", \"...</td>\n",
       "      <td>[{\"credit_id\": \"52fe48009251416c750aca23\", \"de...</td>\n",
       "    </tr>\n",
       "    <tr>\n",
       "      <th>1</th>\n",
       "      <td>285</td>\n",
       "      <td>Pirates of the Caribbean: At World's End</td>\n",
       "      <td>[{\"cast_id\": 4, \"character\": \"Captain Jack Spa...</td>\n",
       "      <td>[{\"credit_id\": \"52fe4232c3a36847f800b579\", \"de...</td>\n",
       "    </tr>\n",
       "    <tr>\n",
       "      <th>2</th>\n",
       "      <td>206647</td>\n",
       "      <td>Spectre</td>\n",
       "      <td>[{\"cast_id\": 1, \"character\": \"James Bond\", \"cr...</td>\n",
       "      <td>[{\"credit_id\": \"54805967c3a36829b5002c41\", \"de...</td>\n",
       "    </tr>\n",
       "  </tbody>\n",
       "</table>\n",
       "</div>"
      ],
      "text/plain": [
       "   movie_id                                     title  \\\n",
       "0     19995                                    Avatar   \n",
       "1       285  Pirates of the Caribbean: At World's End   \n",
       "2    206647                                   Spectre   \n",
       "\n",
       "                                                cast  \\\n",
       "0  [{\"cast_id\": 242, \"character\": \"Jake Sully\", \"...   \n",
       "1  [{\"cast_id\": 4, \"character\": \"Captain Jack Spa...   \n",
       "2  [{\"cast_id\": 1, \"character\": \"James Bond\", \"cr...   \n",
       "\n",
       "                                                crew  \n",
       "0  [{\"credit_id\": \"52fe48009251416c750aca23\", \"de...  \n",
       "1  [{\"credit_id\": \"52fe4232c3a36847f800b579\", \"de...  \n",
       "2  [{\"credit_id\": \"54805967c3a36829b5002c41\", \"de...  "
      ]
     },
     "execution_count": 3,
     "metadata": {},
     "output_type": "execute_result"
    }
   ],
   "source": [
    "import pandas as pd\n",
    "from ast import literal_eval\n",
    "cred = pd.read_csv('tmdb_5000_credits.csv')\n",
    "cred.head(3)"
   ]
  },
  {
   "cell_type": "code",
   "execution_count": 4,
   "id": "4c4d9a11",
   "metadata": {},
   "outputs": [
    {
     "data": {
      "text/html": [
       "<div>\n",
       "<style scoped>\n",
       "    .dataframe tbody tr th:only-of-type {\n",
       "        vertical-align: middle;\n",
       "    }\n",
       "\n",
       "    .dataframe tbody tr th {\n",
       "        vertical-align: top;\n",
       "    }\n",
       "\n",
       "    .dataframe thead th {\n",
       "        text-align: right;\n",
       "    }\n",
       "</style>\n",
       "<table border=\"1\" class=\"dataframe\">\n",
       "  <thead>\n",
       "    <tr style=\"text-align: right;\">\n",
       "      <th></th>\n",
       "      <th>budget</th>\n",
       "      <th>genres</th>\n",
       "      <th>homepage</th>\n",
       "      <th>id</th>\n",
       "      <th>keywords</th>\n",
       "      <th>original_language</th>\n",
       "      <th>original_title</th>\n",
       "      <th>overview</th>\n",
       "      <th>popularity</th>\n",
       "      <th>production_companies</th>\n",
       "      <th>production_countries</th>\n",
       "      <th>release_date</th>\n",
       "      <th>revenue</th>\n",
       "      <th>runtime</th>\n",
       "      <th>spoken_languages</th>\n",
       "      <th>status</th>\n",
       "      <th>tagline</th>\n",
       "      <th>title</th>\n",
       "      <th>vote_average</th>\n",
       "      <th>vote_count</th>\n",
       "    </tr>\n",
       "  </thead>\n",
       "  <tbody>\n",
       "    <tr>\n",
       "      <th>0</th>\n",
       "      <td>237000000</td>\n",
       "      <td>[{\"id\": 28, \"name\": \"Action\"}, {\"id\": 12, \"nam...</td>\n",
       "      <td>http://www.avatarmovie.com/</td>\n",
       "      <td>19995</td>\n",
       "      <td>[{\"id\": 1463, \"name\": \"culture clash\"}, {\"id\":...</td>\n",
       "      <td>en</td>\n",
       "      <td>Avatar</td>\n",
       "      <td>In the 22nd century, a paraplegic Marine is di...</td>\n",
       "      <td>150.437577</td>\n",
       "      <td>[{\"name\": \"Ingenious Film Partners\", \"id\": 289...</td>\n",
       "      <td>[{\"iso_3166_1\": \"US\", \"name\": \"United States o...</td>\n",
       "      <td>2009-12-10</td>\n",
       "      <td>2787965087</td>\n",
       "      <td>162.0</td>\n",
       "      <td>[{\"iso_639_1\": \"en\", \"name\": \"English\"}, {\"iso...</td>\n",
       "      <td>Released</td>\n",
       "      <td>Enter the World of Pandora.</td>\n",
       "      <td>Avatar</td>\n",
       "      <td>7.2</td>\n",
       "      <td>11800</td>\n",
       "    </tr>\n",
       "    <tr>\n",
       "      <th>1</th>\n",
       "      <td>300000000</td>\n",
       "      <td>[{\"id\": 12, \"name\": \"Adventure\"}, {\"id\": 14, \"...</td>\n",
       "      <td>http://disney.go.com/disneypictures/pirates/</td>\n",
       "      <td>285</td>\n",
       "      <td>[{\"id\": 270, \"name\": \"ocean\"}, {\"id\": 726, \"na...</td>\n",
       "      <td>en</td>\n",
       "      <td>Pirates of the Caribbean: At World's End</td>\n",
       "      <td>Captain Barbossa, long believed to be dead, ha...</td>\n",
       "      <td>139.082615</td>\n",
       "      <td>[{\"name\": \"Walt Disney Pictures\", \"id\": 2}, {\"...</td>\n",
       "      <td>[{\"iso_3166_1\": \"US\", \"name\": \"United States o...</td>\n",
       "      <td>2007-05-19</td>\n",
       "      <td>961000000</td>\n",
       "      <td>169.0</td>\n",
       "      <td>[{\"iso_639_1\": \"en\", \"name\": \"English\"}]</td>\n",
       "      <td>Released</td>\n",
       "      <td>At the end of the world, the adventure begins.</td>\n",
       "      <td>Pirates of the Caribbean: At World's End</td>\n",
       "      <td>6.9</td>\n",
       "      <td>4500</td>\n",
       "    </tr>\n",
       "    <tr>\n",
       "      <th>2</th>\n",
       "      <td>245000000</td>\n",
       "      <td>[{\"id\": 28, \"name\": \"Action\"}, {\"id\": 12, \"nam...</td>\n",
       "      <td>http://www.sonypictures.com/movies/spectre/</td>\n",
       "      <td>206647</td>\n",
       "      <td>[{\"id\": 470, \"name\": \"spy\"}, {\"id\": 818, \"name...</td>\n",
       "      <td>en</td>\n",
       "      <td>Spectre</td>\n",
       "      <td>A cryptic message from Bond’s past sends him o...</td>\n",
       "      <td>107.376788</td>\n",
       "      <td>[{\"name\": \"Columbia Pictures\", \"id\": 5}, {\"nam...</td>\n",
       "      <td>[{\"iso_3166_1\": \"GB\", \"name\": \"United Kingdom\"...</td>\n",
       "      <td>2015-10-26</td>\n",
       "      <td>880674609</td>\n",
       "      <td>148.0</td>\n",
       "      <td>[{\"iso_639_1\": \"fr\", \"name\": \"Fran\\u00e7ais\"},...</td>\n",
       "      <td>Released</td>\n",
       "      <td>A Plan No One Escapes</td>\n",
       "      <td>Spectre</td>\n",
       "      <td>6.3</td>\n",
       "      <td>4466</td>\n",
       "    </tr>\n",
       "  </tbody>\n",
       "</table>\n",
       "</div>"
      ],
      "text/plain": [
       "      budget                                             genres  \\\n",
       "0  237000000  [{\"id\": 28, \"name\": \"Action\"}, {\"id\": 12, \"nam...   \n",
       "1  300000000  [{\"id\": 12, \"name\": \"Adventure\"}, {\"id\": 14, \"...   \n",
       "2  245000000  [{\"id\": 28, \"name\": \"Action\"}, {\"id\": 12, \"nam...   \n",
       "\n",
       "                                       homepage      id  \\\n",
       "0                   http://www.avatarmovie.com/   19995   \n",
       "1  http://disney.go.com/disneypictures/pirates/     285   \n",
       "2   http://www.sonypictures.com/movies/spectre/  206647   \n",
       "\n",
       "                                            keywords original_language  \\\n",
       "0  [{\"id\": 1463, \"name\": \"culture clash\"}, {\"id\":...                en   \n",
       "1  [{\"id\": 270, \"name\": \"ocean\"}, {\"id\": 726, \"na...                en   \n",
       "2  [{\"id\": 470, \"name\": \"spy\"}, {\"id\": 818, \"name...                en   \n",
       "\n",
       "                             original_title  \\\n",
       "0                                    Avatar   \n",
       "1  Pirates of the Caribbean: At World's End   \n",
       "2                                   Spectre   \n",
       "\n",
       "                                            overview  popularity  \\\n",
       "0  In the 22nd century, a paraplegic Marine is di...  150.437577   \n",
       "1  Captain Barbossa, long believed to be dead, ha...  139.082615   \n",
       "2  A cryptic message from Bond’s past sends him o...  107.376788   \n",
       "\n",
       "                                production_companies  \\\n",
       "0  [{\"name\": \"Ingenious Film Partners\", \"id\": 289...   \n",
       "1  [{\"name\": \"Walt Disney Pictures\", \"id\": 2}, {\"...   \n",
       "2  [{\"name\": \"Columbia Pictures\", \"id\": 5}, {\"nam...   \n",
       "\n",
       "                                production_countries release_date     revenue  \\\n",
       "0  [{\"iso_3166_1\": \"US\", \"name\": \"United States o...   2009-12-10  2787965087   \n",
       "1  [{\"iso_3166_1\": \"US\", \"name\": \"United States o...   2007-05-19   961000000   \n",
       "2  [{\"iso_3166_1\": \"GB\", \"name\": \"United Kingdom\"...   2015-10-26   880674609   \n",
       "\n",
       "   runtime                                   spoken_languages    status  \\\n",
       "0    162.0  [{\"iso_639_1\": \"en\", \"name\": \"English\"}, {\"iso...  Released   \n",
       "1    169.0           [{\"iso_639_1\": \"en\", \"name\": \"English\"}]  Released   \n",
       "2    148.0  [{\"iso_639_1\": \"fr\", \"name\": \"Fran\\u00e7ais\"},...  Released   \n",
       "\n",
       "                                          tagline  \\\n",
       "0                     Enter the World of Pandora.   \n",
       "1  At the end of the world, the adventure begins.   \n",
       "2                           A Plan No One Escapes   \n",
       "\n",
       "                                      title  vote_average  vote_count  \n",
       "0                                    Avatar           7.2       11800  \n",
       "1  Pirates of the Caribbean: At World's End           6.9        4500  \n",
       "2                                   Spectre           6.3        4466  "
      ]
     },
     "execution_count": 4,
     "metadata": {},
     "output_type": "execute_result"
    }
   ],
   "source": [
    "meta = pd.read_csv('tmdb_5000_movies.csv')\n",
    "meta.head(3)"
   ]
  },
  {
   "cell_type": "markdown",
   "id": "55e887f8",
   "metadata": {},
   "source": [
    "# Данные для таблиц characters, actors, movies_characters"
   ]
  },
  {
   "cell_type": "code",
   "execution_count": 17,
   "id": "95e5531f",
   "metadata": {},
   "outputs": [],
   "source": [
    "from tqdm import tqdm"
   ]
  },
  {
   "cell_type": "code",
   "execution_count": 18,
   "id": "7132ac47",
   "metadata": {},
   "outputs": [
    {
     "name": "stderr",
     "output_type": "stream",
     "text": [
      "100%|█████████████████████████████████████| 4803/4803 [00:02<00:00, 1612.81it/s]\n"
     ]
    }
   ],
   "source": [
    "s = 0 # счетчик\n",
    "movies_chars = [] # id фильмов \n",
    "name_chars = [] # имя персонажа\n",
    "actor_chars = [] # имя актера\n",
    "gender_chars = [] # пол\n",
    "\n",
    "for item in tqdm(cred['cast']):\n",
    "    pairs = item.split(',')\n",
    "    if str(pairs).count('name') != str(pairs).count('gender'):\n",
    "        pass\n",
    "    else:\n",
    "        for p in pairs:\n",
    "            if \"character\" in p:\n",
    "                name_chars.append(p.split(\": \")[1].replace('\"', ''))\n",
    "                movies_chars.append(cred[\"movie_id\"][s])\n",
    "            if \"name\" in p:\n",
    "                actor_chars.append(p.split(\": \")[1].replace('\"', '')) \n",
    "            if \"gender\" in p:\n",
    "                gender_chars.append(p.split(\": \")[1].replace('\"', '')) \n",
    "        s += 1"
   ]
  },
  {
   "cell_type": "code",
   "execution_count": 23,
   "id": "cfa4cbbc",
   "metadata": {},
   "outputs": [],
   "source": [
    "s = 459488\n",
    "id_chars = []\n",
    "for i in movies_chars:\n",
    "    s+=1\n",
    "    id_chars.append(s)"
   ]
  },
  {
   "cell_type": "markdown",
   "id": "f079763c",
   "metadata": {},
   "source": [
    "## Таблица Персонажей"
   ]
  },
  {
   "cell_type": "code",
   "execution_count": 252,
   "id": "b19d6b40",
   "metadata": {},
   "outputs": [
    {
     "data": {
      "text/html": [
       "<div>\n",
       "<style scoped>\n",
       "    .dataframe tbody tr th:only-of-type {\n",
       "        vertical-align: middle;\n",
       "    }\n",
       "\n",
       "    .dataframe tbody tr th {\n",
       "        vertical-align: top;\n",
       "    }\n",
       "\n",
       "    .dataframe thead th {\n",
       "        text-align: right;\n",
       "    }\n",
       "</style>\n",
       "<table border=\"1\" class=\"dataframe\">\n",
       "  <thead>\n",
       "    <tr style=\"text-align: right;\">\n",
       "      <th></th>\n",
       "      <th>char_id</th>\n",
       "      <th>movie_id</th>\n",
       "      <th>char_name</th>\n",
       "      <th>gender</th>\n",
       "      <th>actor_name</th>\n",
       "    </tr>\n",
       "  </thead>\n",
       "  <tbody>\n",
       "    <tr>\n",
       "      <th>0</th>\n",
       "      <td>459489</td>\n",
       "      <td>19995</td>\n",
       "      <td>Jake Sully</td>\n",
       "      <td>2</td>\n",
       "      <td>Sam Worthington</td>\n",
       "    </tr>\n",
       "    <tr>\n",
       "      <th>1</th>\n",
       "      <td>459490</td>\n",
       "      <td>19995</td>\n",
       "      <td>Neytiri</td>\n",
       "      <td>1</td>\n",
       "      <td>Zoe Saldana</td>\n",
       "    </tr>\n",
       "    <tr>\n",
       "      <th>2</th>\n",
       "      <td>459491</td>\n",
       "      <td>19995</td>\n",
       "      <td>Dr. Grace Augustine</td>\n",
       "      <td>1</td>\n",
       "      <td>Sigourney Weaver</td>\n",
       "    </tr>\n",
       "  </tbody>\n",
       "</table>\n",
       "</div>"
      ],
      "text/plain": [
       "   char_id  movie_id            char_name gender        actor_name\n",
       "0   459489     19995           Jake Sully      2   Sam Worthington\n",
       "1   459490     19995              Neytiri      1       Zoe Saldana\n",
       "2   459491     19995  Dr. Grace Augustine      1  Sigourney Weaver"
      ]
     },
     "execution_count": 252,
     "metadata": {},
     "output_type": "execute_result"
    }
   ],
   "source": [
    "df_chars = pd.DataFrame({\n",
    "    'char_id': list(dict(zip(name_chars, id_chars)).values()),\n",
    "    'movie_id': list(dict(zip(name_chars, movies_chars)).values()),\n",
    "    'char_name': list(dict(zip(name_chars, id_chars)).keys()),\n",
    "    'gender': list(dict(zip(name_chars, gender_chars)).values()),\n",
    "    'actor_name': list(dict(zip(name_chars, actor_chars)).values())\n",
    "    \n",
    "            })\n",
    "\n",
    "df_chars.head(3)"
   ]
  },
  {
   "cell_type": "markdown",
   "id": "d2a8fb6f",
   "metadata": {},
   "source": [
    "## Таблица актеров"
   ]
  },
  {
   "cell_type": "markdown",
   "id": "da6963a3",
   "metadata": {},
   "source": [
    "Хочется получить что-то помимо имен актеров - воспользуемся википедией :)\n",
    "\n",
    "Обкачаем даты рождения актеров, используя модули wikipedia и datefinder"
   ]
  },
  {
   "cell_type": "code",
   "execution_count": 253,
   "id": "f29f32d6",
   "metadata": {},
   "outputs": [
    {
     "data": {
      "text/plain": [
       "53737"
      ]
     },
     "execution_count": 253,
     "metadata": {},
     "output_type": "execute_result"
    }
   ],
   "source": [
    "id_actors = []\n",
    "s = max(id_chars)\n",
    "for i in set(actor_chars):\n",
    "    s+=1\n",
    "    id_actors.append(s)\n",
    "len(id_actors)"
   ]
  },
  {
   "cell_type": "code",
   "execution_count": 254,
   "id": "28de87ac",
   "metadata": {},
   "outputs": [
    {
     "data": {
      "text/plain": [
       "53737"
      ]
     },
     "execution_count": 254,
     "metadata": {},
     "output_type": "execute_result"
    }
   ],
   "source": [
    "len(list(dict(zip(id_actors, actor_chars))))"
   ]
  },
  {
   "cell_type": "markdown",
   "id": "a3746520",
   "metadata": {},
   "source": [
    "**Вариант 1 - обкачать википедию с датами рождения актеров, но это долго (около 40 часов)**"
   ]
  },
  {
   "cell_type": "code",
   "execution_count": 255,
   "id": "9f8ec7d4",
   "metadata": {},
   "outputs": [
    {
     "name": "stderr",
     "output_type": "stream",
     "text": [
      "100%|█████████████████████████████████████████████| 6/6 [00:04<00:00,  1.20it/s]\n"
     ]
    }
   ],
   "source": [
    "import wikipedia\n",
    "import datefinder\n",
    "birth_date = []\n",
    "for actor in tqdm(list(dict(zip(id_actors, actor_chars)).values())[0:6]): # протестим на 6 элементах списка\n",
    "    try:\n",
    "        input_string = wikipedia.page(f\"{actor}\").summary\n",
    "        matches = list(datefinder.find_dates(input_string))\n",
    "        if len(matches) > 0:\n",
    "            birth_date.append(matches[0])\n",
    "        else:\n",
    "            birth_date.append('')\n",
    "    except Exception:\n",
    "        birth_date.append('')"
   ]
  },
  {
   "cell_type": "code",
   "execution_count": 256,
   "id": "73dcf877",
   "metadata": {},
   "outputs": [
    {
     "data": {
      "text/plain": [
       "[datetime.datetime(1976, 8, 2, 0, 0),\n",
       " datetime.datetime(1978, 6, 19, 0, 0),\n",
       " datetime.datetime(1949, 10, 8, 0, 0),\n",
       " '',\n",
       " datetime.datetime(1978, 7, 12, 0, 0),\n",
       " datetime.datetime(1974, 12, 17, 0, 0)]"
      ]
     },
     "execution_count": 256,
     "metadata": {},
     "output_type": "execute_result"
    }
   ],
   "source": [
    "birth_date"
   ]
  },
  {
   "cell_type": "markdown",
   "id": "b5476edb",
   "metadata": {},
   "source": [
    "**Вариант 2 - mock данные**"
   ]
  },
  {
   "cell_type": "code",
   "execution_count": 257,
   "id": "204aad90",
   "metadata": {},
   "outputs": [
    {
     "name": "stderr",
     "output_type": "stream",
     "text": [
      "100%|██████████████████████████████████| 53737/53737 [00:02<00:00, 23781.95it/s]\n"
     ]
    }
   ],
   "source": [
    "from faker import Faker\n",
    "fake = Faker()\n",
    "birth_date = []\n",
    "for actor in tqdm(list(dict(zip(id_actors, actor_chars)).values())):\n",
    "    birth_date.append(fake.date_time_between(start_date='-70y', end_date='-10y').date())"
   ]
  },
  {
   "cell_type": "code",
   "execution_count": 258,
   "id": "cfaf24c6",
   "metadata": {},
   "outputs": [
    {
     "data": {
      "text/plain": [
       "datetime.date(1998, 4, 22)"
      ]
     },
     "execution_count": 258,
     "metadata": {},
     "output_type": "execute_result"
    }
   ],
   "source": [
    "birth_date[0]"
   ]
  },
  {
   "cell_type": "code",
   "execution_count": 259,
   "id": "c7d0ead9",
   "metadata": {},
   "outputs": [
    {
     "data": {
      "text/html": [
       "<div>\n",
       "<style scoped>\n",
       "    .dataframe tbody tr th:only-of-type {\n",
       "        vertical-align: middle;\n",
       "    }\n",
       "\n",
       "    .dataframe tbody tr th {\n",
       "        vertical-align: top;\n",
       "    }\n",
       "\n",
       "    .dataframe thead th {\n",
       "        text-align: right;\n",
       "    }\n",
       "</style>\n",
       "<table border=\"1\" class=\"dataframe\">\n",
       "  <thead>\n",
       "    <tr style=\"text-align: right;\">\n",
       "      <th></th>\n",
       "      <th>actor_id</th>\n",
       "      <th>char_id</th>\n",
       "      <th>actor_name</th>\n",
       "      <th>birth_date</th>\n",
       "    </tr>\n",
       "  </thead>\n",
       "  <tbody>\n",
       "    <tr>\n",
       "      <th>0</th>\n",
       "      <td>564842</td>\n",
       "      <td>459489</td>\n",
       "      <td>Sam Worthington</td>\n",
       "      <td>1998-04-22</td>\n",
       "    </tr>\n",
       "    <tr>\n",
       "      <th>1</th>\n",
       "      <td>564843</td>\n",
       "      <td>459490</td>\n",
       "      <td>Zoe Saldana</td>\n",
       "      <td>2007-05-12</td>\n",
       "    </tr>\n",
       "    <tr>\n",
       "      <th>2</th>\n",
       "      <td>564844</td>\n",
       "      <td>459491</td>\n",
       "      <td>Sigourney Weaver</td>\n",
       "      <td>1992-12-15</td>\n",
       "    </tr>\n",
       "  </tbody>\n",
       "</table>\n",
       "</div>"
      ],
      "text/plain": [
       "   actor_id  char_id        actor_name  birth_date\n",
       "0    564842   459489   Sam Worthington  1998-04-22\n",
       "1    564843   459490       Zoe Saldana  2007-05-12\n",
       "2    564844   459491  Sigourney Weaver  1992-12-15"
      ]
     },
     "execution_count": 259,
     "metadata": {},
     "output_type": "execute_result"
    }
   ],
   "source": [
    "df_actors = pd.DataFrame({\n",
    "    'actor_id': list(dict(zip(id_actors, actor_chars)).keys()),\n",
    "    'char_id': list(dict(zip(id_actors, id_chars)).values()),\n",
    "    'actor_name': list(dict(zip(id_actors, actor_chars)).values()),\n",
    "    'birth_date': birth_date\n",
    "            })\n",
    "\n",
    "df_actors.head(3)"
   ]
  },
  {
   "cell_type": "markdown",
   "id": "241cdd39",
   "metadata": {},
   "source": [
    "## Джойним датафреймы\n",
    "\n",
    "нужно в df_chars id актеров, а не имена"
   ]
  },
  {
   "cell_type": "code",
   "execution_count": 260,
   "id": "fbe98d4f",
   "metadata": {},
   "outputs": [
    {
     "data": {
      "text/html": [
       "<div>\n",
       "<style scoped>\n",
       "    .dataframe tbody tr th:only-of-type {\n",
       "        vertical-align: middle;\n",
       "    }\n",
       "\n",
       "    .dataframe tbody tr th {\n",
       "        vertical-align: top;\n",
       "    }\n",
       "\n",
       "    .dataframe thead th {\n",
       "        text-align: right;\n",
       "    }\n",
       "</style>\n",
       "<table border=\"1\" class=\"dataframe\">\n",
       "  <thead>\n",
       "    <tr style=\"text-align: right;\">\n",
       "      <th></th>\n",
       "      <th>char_id_x</th>\n",
       "      <th>movie_id</th>\n",
       "      <th>char_name</th>\n",
       "      <th>gender</th>\n",
       "      <th>actor_name</th>\n",
       "      <th>actor_id</th>\n",
       "      <th>char_id_y</th>\n",
       "      <th>birth_date</th>\n",
       "    </tr>\n",
       "  </thead>\n",
       "  <tbody>\n",
       "    <tr>\n",
       "      <th>0</th>\n",
       "      <td>459489</td>\n",
       "      <td>19995</td>\n",
       "      <td>Jake Sully</td>\n",
       "      <td>2</td>\n",
       "      <td>Sam Worthington</td>\n",
       "      <td>564842.0</td>\n",
       "      <td>459489.0</td>\n",
       "      <td>1998-04-22</td>\n",
       "    </tr>\n",
       "    <tr>\n",
       "      <th>1</th>\n",
       "      <td>459489</td>\n",
       "      <td>19995</td>\n",
       "      <td>Jake Sully</td>\n",
       "      <td>2</td>\n",
       "      <td>Sam Worthington</td>\n",
       "      <td>567225.0</td>\n",
       "      <td>461872.0</td>\n",
       "      <td>1979-03-19</td>\n",
       "    </tr>\n",
       "    <tr>\n",
       "      <th>2</th>\n",
       "      <td>459489</td>\n",
       "      <td>19995</td>\n",
       "      <td>Jake Sully</td>\n",
       "      <td>2</td>\n",
       "      <td>Sam Worthington</td>\n",
       "      <td>570991.0</td>\n",
       "      <td>465638.0</td>\n",
       "      <td>1956-03-24</td>\n",
       "    </tr>\n",
       "  </tbody>\n",
       "</table>\n",
       "</div>"
      ],
      "text/plain": [
       "   char_id_x  movie_id   char_name gender       actor_name  actor_id  \\\n",
       "0     459489     19995  Jake Sully      2  Sam Worthington  564842.0   \n",
       "1     459489     19995  Jake Sully      2  Sam Worthington  567225.0   \n",
       "2     459489     19995  Jake Sully      2  Sam Worthington  570991.0   \n",
       "\n",
       "   char_id_y  birth_date  \n",
       "0   459489.0  1998-04-22  \n",
       "1   461872.0  1979-03-19  \n",
       "2   465638.0  1956-03-24  "
      ]
     },
     "execution_count": 260,
     "metadata": {},
     "output_type": "execute_result"
    }
   ],
   "source": [
    "df_char = df_chars.merge(df_actors, on='actor_name', how='left')\n",
    "df_char.head(3)"
   ]
  },
  {
   "cell_type": "code",
   "execution_count": 262,
   "id": "cc6ad4cb",
   "metadata": {},
   "outputs": [],
   "source": [
    "df_char = df_char[['char_id_x', 'movie_id', 'char_name', 'gender']].copy()"
   ]
  },
  {
   "cell_type": "code",
   "execution_count": 268,
   "id": "6117dfa8",
   "metadata": {},
   "outputs": [
    {
     "data": {
      "text/html": [
       "<div>\n",
       "<style scoped>\n",
       "    .dataframe tbody tr th:only-of-type {\n",
       "        vertical-align: middle;\n",
       "    }\n",
       "\n",
       "    .dataframe tbody tr th {\n",
       "        vertical-align: top;\n",
       "    }\n",
       "\n",
       "    .dataframe thead th {\n",
       "        text-align: right;\n",
       "    }\n",
       "</style>\n",
       "<table border=\"1\" class=\"dataframe\">\n",
       "  <thead>\n",
       "    <tr style=\"text-align: right;\">\n",
       "      <th></th>\n",
       "      <th>char_id</th>\n",
       "      <th>movie_id</th>\n",
       "      <th>name</th>\n",
       "      <th>gender</th>\n",
       "    </tr>\n",
       "  </thead>\n",
       "  <tbody>\n",
       "    <tr>\n",
       "      <th>0</th>\n",
       "      <td>459489</td>\n",
       "      <td>19995</td>\n",
       "      <td>Jake Sully</td>\n",
       "      <td>2</td>\n",
       "    </tr>\n",
       "    <tr>\n",
       "      <th>1</th>\n",
       "      <td>459489</td>\n",
       "      <td>19995</td>\n",
       "      <td>Neytiri</td>\n",
       "      <td>2</td>\n",
       "    </tr>\n",
       "    <tr>\n",
       "      <th>2</th>\n",
       "      <td>459489</td>\n",
       "      <td>19995</td>\n",
       "      <td>Dr. Grace Augustine</td>\n",
       "      <td>2</td>\n",
       "    </tr>\n",
       "    <tr>\n",
       "      <th>3</th>\n",
       "      <td>459489</td>\n",
       "      <td>19995</td>\n",
       "      <td>Col. Quaritch</td>\n",
       "      <td>2</td>\n",
       "    </tr>\n",
       "    <tr>\n",
       "      <th>4</th>\n",
       "      <td>459489</td>\n",
       "      <td>19995</td>\n",
       "      <td>Trudy Chacon</td>\n",
       "      <td>2</td>\n",
       "    </tr>\n",
       "    <tr>\n",
       "      <th>...</th>\n",
       "      <td>...</td>\n",
       "      <td>...</td>\n",
       "      <td>...</td>\n",
       "      <td>...</td>\n",
       "    </tr>\n",
       "    <tr>\n",
       "      <th>70820</th>\n",
       "      <td>478917</td>\n",
       "      <td>395</td>\n",
       "      <td>Rita Haywith</td>\n",
       "      <td>2</td>\n",
       "    </tr>\n",
       "    <tr>\n",
       "      <th>70821</th>\n",
       "      <td>478917</td>\n",
       "      <td>395</td>\n",
       "      <td>Norman Dorman</td>\n",
       "      <td>2</td>\n",
       "    </tr>\n",
       "    <tr>\n",
       "      <th>70822</th>\n",
       "      <td>478917</td>\n",
       "      <td>395</td>\n",
       "      <td>Charlie Riggs</td>\n",
       "      <td>2</td>\n",
       "    </tr>\n",
       "    <tr>\n",
       "      <th>70823</th>\n",
       "      <td>478917</td>\n",
       "      <td>395</td>\n",
       "      <td>Andrea Shmeckle</td>\n",
       "      <td>2</td>\n",
       "    </tr>\n",
       "    <tr>\n",
       "      <th>70824</th>\n",
       "      <td>478917</td>\n",
       "      <td>395</td>\n",
       "      <td>Marcus Groff</td>\n",
       "      <td>2</td>\n",
       "    </tr>\n",
       "  </tbody>\n",
       "</table>\n",
       "<p>70825 rows × 4 columns</p>\n",
       "</div>"
      ],
      "text/plain": [
       "       char_id  movie_id                 name gender\n",
       "0       459489     19995           Jake Sully      2\n",
       "1       459489     19995              Neytiri      2\n",
       "2       459489     19995  Dr. Grace Augustine      2\n",
       "3       459489     19995        Col. Quaritch      2\n",
       "4       459489     19995         Trudy Chacon      2\n",
       "...        ...       ...                  ...    ...\n",
       "70820   478917       395         Rita Haywith      2\n",
       "70821   478917       395        Norman Dorman      2\n",
       "70822   478917       395        Charlie Riggs      2\n",
       "70823   478917       395      Andrea Shmeckle      2\n",
       "70824   478917       395         Marcus Groff      2\n",
       "\n",
       "[70825 rows x 4 columns]"
      ]
     },
     "execution_count": 268,
     "metadata": {},
     "output_type": "execute_result"
    }
   ],
   "source": [
    "df_chars =  pd.DataFrame({\n",
    "    'char_id': list(dict(zip(OrderedSet(df_char['char_name']), df_char['char_id_x'])).values()),\n",
    "    'movie_id': list(dict(zip(OrderedSet(df_char['char_name']), df_char['movie_id'])).values()),\n",
    "    'name': list(dict(zip(OrderedSet(df_char['char_name']), df_char['gender'])).keys()),\n",
    "    'gender': list(dict(zip(OrderedSet(df_char['char_name']), df_char['gender'])).values())})\n",
    "df_chars"
   ]
  },
  {
   "cell_type": "markdown",
   "id": "f62549e7",
   "metadata": {},
   "source": [
    "## Таблица фильмов"
   ]
  },
  {
   "cell_type": "code",
   "execution_count": 323,
   "id": "c001e72e",
   "metadata": {},
   "outputs": [
    {
     "data": {
      "text/html": [
       "<div>\n",
       "<style scoped>\n",
       "    .dataframe tbody tr th:only-of-type {\n",
       "        vertical-align: middle;\n",
       "    }\n",
       "\n",
       "    .dataframe tbody tr th {\n",
       "        vertical-align: top;\n",
       "    }\n",
       "\n",
       "    .dataframe thead th {\n",
       "        text-align: right;\n",
       "    }\n",
       "</style>\n",
       "<table border=\"1\" class=\"dataframe\">\n",
       "  <thead>\n",
       "    <tr style=\"text-align: right;\">\n",
       "      <th></th>\n",
       "      <th>id</th>\n",
       "      <th>release_date</th>\n",
       "      <th>title</th>\n",
       "      <th>budget</th>\n",
       "      <th>revenue</th>\n",
       "      <th>runtime</th>\n",
       "      <th>vote_average</th>\n",
       "      <th>vote_count</th>\n",
       "    </tr>\n",
       "  </thead>\n",
       "  <tbody>\n",
       "    <tr>\n",
       "      <th>0</th>\n",
       "      <td>19995</td>\n",
       "      <td>2009-12-10</td>\n",
       "      <td>Avatar</td>\n",
       "      <td>237000000</td>\n",
       "      <td>2787965087</td>\n",
       "      <td>162.0</td>\n",
       "      <td>7.2</td>\n",
       "      <td>11800</td>\n",
       "    </tr>\n",
       "    <tr>\n",
       "      <th>1</th>\n",
       "      <td>285</td>\n",
       "      <td>2007-05-19</td>\n",
       "      <td>Pirates of the Caribbean: At World's End</td>\n",
       "      <td>300000000</td>\n",
       "      <td>961000000</td>\n",
       "      <td>169.0</td>\n",
       "      <td>6.9</td>\n",
       "      <td>4500</td>\n",
       "    </tr>\n",
       "    <tr>\n",
       "      <th>2</th>\n",
       "      <td>206647</td>\n",
       "      <td>2015-10-26</td>\n",
       "      <td>Spectre</td>\n",
       "      <td>245000000</td>\n",
       "      <td>880674609</td>\n",
       "      <td>148.0</td>\n",
       "      <td>6.3</td>\n",
       "      <td>4466</td>\n",
       "    </tr>\n",
       "  </tbody>\n",
       "</table>\n",
       "</div>"
      ],
      "text/plain": [
       "       id release_date                                     title     budget  \\\n",
       "0   19995   2009-12-10                                    Avatar  237000000   \n",
       "1     285   2007-05-19  Pirates of the Caribbean: At World's End  300000000   \n",
       "2  206647   2015-10-26                                   Spectre  245000000   \n",
       "\n",
       "      revenue  runtime  vote_average  vote_count  \n",
       "0  2787965087    162.0           7.2       11800  \n",
       "1   961000000    169.0           6.9        4500  \n",
       "2   880674609    148.0           6.3        4466  "
      ]
     },
     "execution_count": 323,
     "metadata": {},
     "output_type": "execute_result"
    }
   ],
   "source": [
    "df_movies = meta[['id', 'release_date', 'title', 'budget', \n",
    "                  'revenue', 'runtime', 'vote_average', 'vote_count']].copy()\n",
    "df_movies.head(3)"
   ]
  },
  {
   "cell_type": "code",
   "execution_count": 324,
   "id": "72cbe897",
   "metadata": {},
   "outputs": [],
   "source": [
    "df_movies['movie_id'] = df_movies['id']"
   ]
  },
  {
   "cell_type": "markdown",
   "id": "194bc168",
   "metadata": {},
   "source": [
    "## Таблица студий "
   ]
  },
  {
   "cell_type": "code",
   "execution_count": 81,
   "id": "655017f8",
   "metadata": {},
   "outputs": [
    {
     "name": "stderr",
     "output_type": "stream",
     "text": [
      "100%|████████████████████████████████████| 4803/4803 [00:00<00:00, 19350.16it/s]\n"
     ]
    }
   ],
   "source": [
    "s = 0\n",
    "comp = []\n",
    "ids = []\n",
    "for item in tqdm(meta['production_companies']):\n",
    "    pairs = item.split(',')\n",
    "    for p in pairs:\n",
    "        if \"name\" in p:\n",
    "            comp.append(p.split(\": \")[1].replace('\"', '').replace('}', '').replace(']', ''))\n",
    "            ids.append(meta['id'][s])\n",
    "    s += 1"
   ]
  },
  {
   "cell_type": "code",
   "execution_count": 89,
   "id": "28568aab",
   "metadata": {},
   "outputs": [],
   "source": [
    "s = max(ids)\n",
    "c_id = []\n",
    "for i in comp:\n",
    "    s+=1\n",
    "    c_id.append(s)"
   ]
  },
  {
   "cell_type": "code",
   "execution_count": 92,
   "id": "44d37fd8",
   "metadata": {},
   "outputs": [
    {
     "data": {
      "text/html": [
       "<div>\n",
       "<style scoped>\n",
       "    .dataframe tbody tr th:only-of-type {\n",
       "        vertical-align: middle;\n",
       "    }\n",
       "\n",
       "    .dataframe tbody tr th {\n",
       "        vertical-align: top;\n",
       "    }\n",
       "\n",
       "    .dataframe thead th {\n",
       "        text-align: right;\n",
       "    }\n",
       "</style>\n",
       "<table border=\"1\" class=\"dataframe\">\n",
       "  <thead>\n",
       "    <tr style=\"text-align: right;\">\n",
       "      <th></th>\n",
       "      <th>comp_id</th>\n",
       "      <th>name</th>\n",
       "      <th>movie_id</th>\n",
       "    </tr>\n",
       "  </thead>\n",
       "  <tbody>\n",
       "    <tr>\n",
       "      <th>0</th>\n",
       "      <td>459489</td>\n",
       "      <td>Ingenious Film Partners</td>\n",
       "      <td>19995</td>\n",
       "    </tr>\n",
       "    <tr>\n",
       "      <th>1</th>\n",
       "      <td>459490</td>\n",
       "      <td>Twentieth Century Fox Film Corporation</td>\n",
       "      <td>19995</td>\n",
       "    </tr>\n",
       "    <tr>\n",
       "      <th>2</th>\n",
       "      <td>459491</td>\n",
       "      <td>Dune Entertainment</td>\n",
       "      <td>19995</td>\n",
       "    </tr>\n",
       "  </tbody>\n",
       "</table>\n",
       "</div>"
      ],
      "text/plain": [
       "   comp_id                                    name  movie_id\n",
       "0   459489                 Ingenious Film Partners     19995\n",
       "1   459490  Twentieth Century Fox Film Corporation     19995\n",
       "2   459491                      Dune Entertainment     19995"
      ]
     },
     "execution_count": 92,
     "metadata": {},
     "output_type": "execute_result"
    }
   ],
   "source": [
    "df_comp = pd.DataFrame({\n",
    "    'comp_id': c_id,\n",
    "    'name': comp,\n",
    "    'movie_id': ids\n",
    "})\n",
    "df_comp.head(3)"
   ]
  },
  {
   "cell_type": "code",
   "execution_count": 158,
   "id": "e6579853",
   "metadata": {},
   "outputs": [],
   "source": [
    "country = []\n",
    "for i in comp:\n",
    "    country.append(fake.country())"
   ]
  },
  {
   "cell_type": "code",
   "execution_count": 159,
   "id": "273a9c54",
   "metadata": {},
   "outputs": [
    {
     "data": {
      "text/html": [
       "<div>\n",
       "<style scoped>\n",
       "    .dataframe tbody tr th:only-of-type {\n",
       "        vertical-align: middle;\n",
       "    }\n",
       "\n",
       "    .dataframe tbody tr th {\n",
       "        vertical-align: top;\n",
       "    }\n",
       "\n",
       "    .dataframe thead th {\n",
       "        text-align: right;\n",
       "    }\n",
       "</style>\n",
       "<table border=\"1\" class=\"dataframe\">\n",
       "  <thead>\n",
       "    <tr style=\"text-align: right;\">\n",
       "      <th></th>\n",
       "      <th>comp_id</th>\n",
       "      <th>name</th>\n",
       "      <th>movie_id</th>\n",
       "      <th>country</th>\n",
       "    </tr>\n",
       "  </thead>\n",
       "  <tbody>\n",
       "    <tr>\n",
       "      <th>0</th>\n",
       "      <td>459489</td>\n",
       "      <td>Ingenious Film Partners</td>\n",
       "      <td>19995</td>\n",
       "      <td>Azerbaijan</td>\n",
       "    </tr>\n",
       "    <tr>\n",
       "      <th>1</th>\n",
       "      <td>459490</td>\n",
       "      <td>Twentieth Century Fox Film Corporation</td>\n",
       "      <td>19995</td>\n",
       "      <td>United Kingdom</td>\n",
       "    </tr>\n",
       "    <tr>\n",
       "      <th>2</th>\n",
       "      <td>459491</td>\n",
       "      <td>Dune Entertainment</td>\n",
       "      <td>19995</td>\n",
       "      <td>Argentina</td>\n",
       "    </tr>\n",
       "  </tbody>\n",
       "</table>\n",
       "</div>"
      ],
      "text/plain": [
       "   comp_id                                    name  movie_id         country\n",
       "0   459489                 Ingenious Film Partners     19995      Azerbaijan\n",
       "1   459490  Twentieth Century Fox Film Corporation     19995  United Kingdom\n",
       "2   459491                      Dune Entertainment     19995       Argentina"
      ]
     },
     "execution_count": 159,
     "metadata": {},
     "output_type": "execute_result"
    }
   ],
   "source": [
    "df_comp = pd.DataFrame({\n",
    "    'comp_id': c_id,\n",
    "    'name': comp,\n",
    "    'movie_id': ids,\n",
    "    'country': country\n",
    "    \n",
    "})\n",
    "df_comp.head(3)"
   ]
  },
  {
   "cell_type": "code",
   "execution_count": 160,
   "id": "ad815f6b",
   "metadata": {},
   "outputs": [],
   "source": [
    "from ordered_set import OrderedSet"
   ]
  },
  {
   "cell_type": "code",
   "execution_count": 329,
   "id": "1de8b442",
   "metadata": {},
   "outputs": [
    {
     "data": {
      "text/html": [
       "<div>\n",
       "<style scoped>\n",
       "    .dataframe tbody tr th:only-of-type {\n",
       "        vertical-align: middle;\n",
       "    }\n",
       "\n",
       "    .dataframe tbody tr th {\n",
       "        vertical-align: top;\n",
       "    }\n",
       "\n",
       "    .dataframe thead th {\n",
       "        text-align: right;\n",
       "    }\n",
       "</style>\n",
       "<table border=\"1\" class=\"dataframe\">\n",
       "  <thead>\n",
       "    <tr style=\"text-align: right;\">\n",
       "      <th></th>\n",
       "      <th>movie_id</th>\n",
       "      <th>comp_id</th>\n",
       "      <th>release_date</th>\n",
       "      <th>title</th>\n",
       "      <th>budget</th>\n",
       "      <th>revenue</th>\n",
       "      <th>runtime</th>\n",
       "      <th>vote_average</th>\n",
       "      <th>vote_count</th>\n",
       "    </tr>\n",
       "  </thead>\n",
       "  <tbody>\n",
       "    <tr>\n",
       "      <th>0</th>\n",
       "      <td>19995</td>\n",
       "      <td>459489</td>\n",
       "      <td>2009-12-10</td>\n",
       "      <td>Avatar</td>\n",
       "      <td>237000000</td>\n",
       "      <td>2787965087</td>\n",
       "      <td>162.0</td>\n",
       "      <td>7.2</td>\n",
       "      <td>11800</td>\n",
       "    </tr>\n",
       "  </tbody>\n",
       "</table>\n",
       "</div>"
      ],
      "text/plain": [
       "   movie_id  comp_id release_date   title     budget     revenue  runtime  \\\n",
       "0     19995   459489   2009-12-10  Avatar  237000000  2787965087    162.0   \n",
       "\n",
       "   vote_average  vote_count  \n",
       "0           7.2       11800  "
      ]
     },
     "execution_count": 329,
     "metadata": {},
     "output_type": "execute_result"
    }
   ],
   "source": [
    "df_movies_final = df_movies_final[['movie_id', 'comp_id', 'release_date', 'title', 'budget', 'revenue', \n",
    "                                   'runtime', 'vote_average', 'vote_count']]\n",
    "df_movies_final.head(1)"
   ]
  },
  {
   "cell_type": "code",
   "execution_count": 163,
   "id": "7af56548",
   "metadata": {},
   "outputs": [
    {
     "data": {
      "text/html": [
       "<div>\n",
       "<style scoped>\n",
       "    .dataframe tbody tr th:only-of-type {\n",
       "        vertical-align: middle;\n",
       "    }\n",
       "\n",
       "    .dataframe tbody tr th {\n",
       "        vertical-align: top;\n",
       "    }\n",
       "\n",
       "    .dataframe thead th {\n",
       "        text-align: right;\n",
       "    }\n",
       "</style>\n",
       "<table border=\"1\" class=\"dataframe\">\n",
       "  <thead>\n",
       "    <tr style=\"text-align: right;\">\n",
       "      <th></th>\n",
       "      <th>comp_id</th>\n",
       "      <th>name</th>\n",
       "      <th>country</th>\n",
       "    </tr>\n",
       "  </thead>\n",
       "  <tbody>\n",
       "    <tr>\n",
       "      <th>5009</th>\n",
       "      <td>464498</td>\n",
       "      <td>Front Street Pictures</td>\n",
       "      <td>Oman</td>\n",
       "    </tr>\n",
       "    <tr>\n",
       "      <th>5010</th>\n",
       "      <td>464499</td>\n",
       "      <td>rusty bear entertainment</td>\n",
       "      <td>New Zealand</td>\n",
       "    </tr>\n",
       "    <tr>\n",
       "      <th>5011</th>\n",
       "      <td>464500</td>\n",
       "      <td>lucky crow films</td>\n",
       "      <td>Iraq</td>\n",
       "    </tr>\n",
       "  </tbody>\n",
       "</table>\n",
       "</div>"
      ],
      "text/plain": [
       "      comp_id                      name      country\n",
       "5009   464498     Front Street Pictures         Oman\n",
       "5010   464499  rusty bear entertainment  New Zealand\n",
       "5011   464500          lucky crow films         Iraq"
      ]
     },
     "execution_count": 163,
     "metadata": {},
     "output_type": "execute_result"
    }
   ],
   "source": [
    "df_comp_final =  pd.DataFrame({\n",
    "    'comp_id': list(dict(zip(OrderedSet(comp), c_id)).values()),\n",
    "    'name': list(dict(zip(OrderedSet(comp), c_id)).keys()),\n",
    "    'country': list(dict(zip(OrderedSet(comp), country)).values())\n",
    "    \n",
    "})\n",
    "df_comp_final.tail(3)"
   ]
  },
  {
   "cell_type": "code",
   "execution_count": 110,
   "id": "109d369c",
   "metadata": {},
   "outputs": [],
   "source": [
    "del df_comp"
   ]
  },
  {
   "cell_type": "markdown",
   "id": "2fd83028",
   "metadata": {},
   "source": [
    "(ﾉﾟ▽ﾟ)ﾉ"
   ]
  },
  {
   "cell_type": "markdown",
   "id": "bf182072",
   "metadata": {},
   "source": [
    "# Часть 2. Создание таблиц в базе данных"
   ]
  },
  {
   "cell_type": "markdown",
   "id": "80907294",
   "metadata": {},
   "source": [
    "### CRUD"
   ]
  },
  {
   "cell_type": "markdown",
   "id": "01a70ada",
   "metadata": {},
   "source": [
    "**Create**"
   ]
  },
  {
   "cell_type": "code",
   "execution_count": 218,
   "id": "1e7e7bdc",
   "metadata": {},
   "outputs": [],
   "source": [
    "command = (\"\"\"\n",
    "                CREATE TABLE heheHAHA (\n",
    "                hehe_id INT NOT NULL PRIMARY KEY,\n",
    "                hehehe VARCHAR(255)\n",
    "                ) \n",
    "                \"\"\")\n",
    "cursor.execute(command)\n",
    "mysql_connect.commit()"
   ]
  },
  {
   "cell_type": "markdown",
   "id": "14741639",
   "metadata": {},
   "source": [
    "**Update**"
   ]
  },
  {
   "cell_type": "code",
   "execution_count": 219,
   "id": "78bb45b5",
   "metadata": {},
   "outputs": [],
   "source": [
    "command = \" UPDATE heheHAHA SET hehe_id = 1, hehehe='HEHEHEHEH' \"\n",
    "cursor.execute(command)\n",
    "mysql_connect.commit()"
   ]
  },
  {
   "cell_type": "markdown",
   "id": "37cacaa6",
   "metadata": {},
   "source": [
    "**Delete**"
   ]
  },
  {
   "cell_type": "code",
   "execution_count": 220,
   "id": "ea4bb029",
   "metadata": {},
   "outputs": [],
   "source": [
    "command = \" DELETE FROM heheHAHA WHERE hehe_id = 1 \"\n",
    "cursor.execute(command)\n",
    "mysql_connect.commit()"
   ]
  },
  {
   "cell_type": "markdown",
   "id": "7a9a5d7f",
   "metadata": {},
   "source": [
    "**Drop**\n",
    "\n",
    "Ой! Нам ведь вообще не нужна эта таблица - дропнем ее"
   ]
  },
  {
   "cell_type": "code",
   "execution_count": 375,
   "id": "9206ead4",
   "metadata": {},
   "outputs": [],
   "source": [
    "command = \"DROP TABLE heheHAHA\"\n",
    "cursor.execute(command)\n",
    "mysql_connect.commit()"
   ]
  },
  {
   "cell_type": "markdown",
   "id": "e487cb63",
   "metadata": {},
   "source": [
    "Создаем реальные таблицы"
   ]
  },
  {
   "cell_type": "code",
   "execution_count": 319,
   "id": "2d44fb65",
   "metadata": {},
   "outputs": [],
   "source": [
    "command = (\"\"\"\n",
    "                CREATE TABLE IF NOT EXISTS companie (\n",
    "                comp_id INT NOT NULL PRIMARY KEY,\n",
    "                name VARCHAR(128),\n",
    "                country VARCHAR(56)\n",
    "                ) \n",
    "                \"\"\")\n",
    "cursor.execute(command)\n",
    "mysql_connect.commit()"
   ]
  },
  {
   "cell_type": "code",
   "execution_count": 376,
   "id": "c77227b5",
   "metadata": {},
   "outputs": [],
   "source": [
    "command = (\"\"\"\n",
    "                CREATE TABLE IF NOT EXISTS movie (\n",
    "                movie_id INT NOT NULL,\n",
    "                comp_id INT NOT NULL,\n",
    "                release_date DATE,\n",
    "                title VARCHAR(128),\n",
    "                budget BIGINT,\n",
    "                revenue BIGINT,\n",
    "                runtime INT,\n",
    "                vote_average INT,\n",
    "                vote_count INT,\n",
    "                PRIMARY KEY (movie_id),\n",
    "                FOREIGN KEY (comp_id) REFERENCES companie(comp_id)               \n",
    "                ) \n",
    "                \"\"\")\n",
    "cursor.execute(command)\n",
    "mysql_connect.commit()"
   ]
  },
  {
   "cell_type": "code",
   "execution_count": 332,
   "id": "92f00ee2",
   "metadata": {},
   "outputs": [],
   "source": [
    "command = (\"\"\"\n",
    "                CREATE TABLE IF NOT EXISTS characters_in_movies (\n",
    "                char_id INT NOT NULL,\n",
    "                movie_id INT NOT NULL,\n",
    "                name VARCHAR(255),\n",
    "                gender INT,\n",
    "                hehehe CHAR(50),\n",
    "                PRIMARY KEY (char_id),\n",
    "                FOREIGN KEY (movie_id) REFERENCES movie(movie_id)\n",
    "                ) \n",
    "                \"\"\")\n",
    "cursor.execute(command)\n",
    "mysql_connect.commit()"
   ]
  },
  {
   "cell_type": "markdown",
   "id": "0fc8efa3",
   "metadata": {},
   "source": [
    "зачем колонка hehehe? Чтобы использовать alter"
   ]
  },
  {
   "cell_type": "markdown",
   "id": "31e46ce8",
   "metadata": {},
   "source": [
    "**Alter**"
   ]
  },
  {
   "cell_type": "code",
   "execution_count": 335,
   "id": "8bb2127b",
   "metadata": {},
   "outputs": [],
   "source": [
    "command = 'ALTER TABLE characters_in_movies DROP COLUMN hehehe'\n",
    "cursor.execute(command)\n",
    "mysql_connect.commit()"
   ]
  },
  {
   "cell_type": "code",
   "execution_count": 244,
   "id": "0eb29c72",
   "metadata": {},
   "outputs": [],
   "source": [
    "command = (\"\"\"\n",
    "                CREATE TABLE IF NOT EXISTS actor (\n",
    "                actor_id INT NOT NULL,\n",
    "                char_id INT NOT NULL,\n",
    "                name VARCHAR(255),\n",
    "                birth_date DATE,\n",
    "                PRIMARY KEY (actor_id),\n",
    "                FOREIGN KEY (char_id) REFERENCES characters_in_movies(char_id)\n",
    "                ) \n",
    "                \"\"\")\n",
    "cursor.execute(command)\n",
    "mysql_connect.commit()"
   ]
  },
  {
   "cell_type": "markdown",
   "id": "ccccdabe",
   "metadata": {},
   "source": [
    "#  Часть 3. Запись в БД"
   ]
  },
  {
   "cell_type": "code",
   "execution_count": 229,
   "id": "45a73602",
   "metadata": {},
   "outputs": [],
   "source": [
    "def split_dataframe(df, chunk_size=5000):\n",
    "    \"\"\"\n",
    "    Запись максимум N строк за раз\n",
    "    \"\"\"\n",
    "    chunks = list()\n",
    "    num_chunks = len(df) // chunk_size + 1\n",
    "    for i in range(num_chunks):\n",
    "        chunks.append(df[i * chunk_size:(i+1) * chunk_size])\n",
    "    return chunks"
   ]
  },
  {
   "cell_type": "markdown",
   "id": "14d978f1",
   "metadata": {},
   "source": [
    "Таблица companie"
   ]
  },
  {
   "cell_type": "code",
   "execution_count": 346,
   "id": "cd7770aa",
   "metadata": {},
   "outputs": [],
   "source": [
    "df_chunks = split_dataframe(df_comp_final)"
   ]
  },
  {
   "cell_type": "code",
   "execution_count": 347,
   "id": "b8b88c47",
   "metadata": {},
   "outputs": [
    {
     "name": "stderr",
     "output_type": "stream",
     "text": [
      "100%|█████████████████████████████████████████████| 2/2 [00:00<00:00,  5.66it/s]\n"
     ]
    }
   ],
   "source": [
    "for df in tqdm(df_chunks):\n",
    "    query = 'INSERT INTO companie (comp_id,name,country) VALUES (%s, %s, %s)'\n",
    "    cursor.executemany(query, df.values.tolist())\n",
    "    mysql_connect.commit()"
   ]
  },
  {
   "cell_type": "markdown",
   "id": "5738760e",
   "metadata": {},
   "source": [
    "Таблица movie"
   ]
  },
  {
   "cell_type": "code",
   "execution_count": 377,
   "id": "1ec124e5",
   "metadata": {},
   "outputs": [],
   "source": [
    "df_chunks = split_dataframe(df_movies_final)"
   ]
  },
  {
   "cell_type": "code",
   "execution_count": 378,
   "id": "3aff6f7c",
   "metadata": {},
   "outputs": [
    {
     "name": "stderr",
     "output_type": "stream",
     "text": [
      "100%|█████████████████████████████████████████████| 3/3 [00:01<00:00,  1.97it/s]\n"
     ]
    }
   ],
   "source": [
    "for df in tqdm(df_chunks):\n",
    "    query = 'INSERT INTO movie (movie_id,comp_id,release_date,title,budget,revenue,runtime,vote_average,vote_count) VALUES (%s, %s, %s, %s, %s, %s, %s, %s, %s)'\n",
    "    cursor.executemany(query, df.values.tolist())\n",
    "    mysql_connect.commit()"
   ]
  },
  {
   "cell_type": "markdown",
   "id": "45b2f11b",
   "metadata": {},
   "source": [
    "Таблица actor"
   ]
  },
  {
   "cell_type": "code",
   "execution_count": 250,
   "id": "6ced56d1",
   "metadata": {},
   "outputs": [],
   "source": [
    "df_chunks = split_dataframe(df_actors)"
   ]
  },
  {
   "cell_type": "code",
   "execution_count": 251,
   "id": "68be7288",
   "metadata": {},
   "outputs": [
    {
     "name": "stderr",
     "output_type": "stream",
     "text": [
      "100%|███████████████████████████████████████████| 11/11 [00:03<00:00,  3.51it/s]\n"
     ]
    }
   ],
   "source": [
    "for df in tqdm(df_chunks):\n",
    "    query = 'INSERT INTO actor (actor_id, char_id, name, birth_date) VALUES (%s, %s, %s, %s)'\n",
    "    cursor.executemany(query, df.values.tolist())\n",
    "    mysql_connect.commit()"
   ]
  },
  {
   "cell_type": "markdown",
   "id": "f07520a6",
   "metadata": {},
   "source": [
    "Таблица character"
   ]
  },
  {
   "cell_type": "code",
   "execution_count": 338,
   "id": "2a54e9f2",
   "metadata": {},
   "outputs": [],
   "source": [
    "df_chunks = split_dataframe(df_chars.drop_duplicates(subset=['char_id']))"
   ]
  },
  {
   "cell_type": "code",
   "execution_count": 339,
   "id": "39827698",
   "metadata": {},
   "outputs": [
    {
     "name": "stderr",
     "output_type": "stream",
     "text": [
      "100%|█████████████████████████████████████████████| 3/3 [00:01<00:00,  2.97it/s]\n"
     ]
    }
   ],
   "source": [
    "for df in tqdm(df_chunks):\n",
    "    query = 'INSERT INTO characters_in_movies (char_id, movie_id, name, gender) VALUES (%s, %s, %s, %s)'\n",
    "    cursor.executemany(query, df.values.tolist())\n",
    "    mysql_connect.commit()"
   ]
  },
  {
   "cell_type": "markdown",
   "id": "e47ba50e",
   "metadata": {},
   "source": [
    "*:・ﾟ✧(∩｀-´)⊃━☆ﾟ.*･｡ﾟ☆ﾟ. * ･ ｡ﾟ,☆ﾟ. * ･ ｡ﾟ,☆ﾟ. * ･ ｡ﾟ,"
   ]
  },
  {
   "cell_type": "markdown",
   "id": "527835f3",
   "metadata": {},
   "source": [
    "# Часть 4. Запросы"
   ]
  },
  {
   "cell_type": "markdown",
   "id": "3cf52ad6",
   "metadata": {},
   "source": [
    "**1. Сколько персонажей было в фильмах от Корейских компаний?**"
   ]
  },
  {
   "cell_type": "code",
   "execution_count": 569,
   "id": "53ffb29b",
   "metadata": {},
   "outputs": [
    {
     "name": "stdout",
     "output_type": "stream",
     "text": [
      "Количество персонажей в фильмах от Корейских компаний: 440\n"
     ]
    }
   ],
   "source": [
    "q = (\"\"\"\n",
    "    SELECT COUNT(DISTINCT(characters_in_movies.char_id)) \n",
    "    FROM characters_in_movies, \n",
    "         movie, \n",
    "         companie \n",
    "    WHERE characters_in_movies.movie_id = movie.movie_id \n",
    "      AND movie.comp_id = companie.comp_id \n",
    "      AND companie.country = 'Korea' \n",
    "      \"\"\")\n",
    "cursor.execute(q)\n",
    "data = cursor.fetchone()\n",
    "print('Количество персонажей в фильмах от Корейских компаний:', data[0])"
   ]
  },
  {
   "cell_type": "markdown",
   "id": "f31e2e8e",
   "metadata": {},
   "source": [
    "**2. Какие средние бюджеты компаний из Канады и США (и при этом средний бюджет больше 80000000) с сортировкой от наибольшего среднего бюджета к наименьшему?**"
   ]
  },
  {
   "cell_type": "code",
   "execution_count": 570,
   "id": "0d3e3360",
   "metadata": {},
   "outputs": [
    {
     "name": "stdout",
     "output_type": "stream",
     "text": [
      "Avg. budget:  210000000.0000 Companie name:  Centropolis Entertainment\n",
      "---------------------------------------------------------------------\n",
      "Avg. budget:  120000000.0000 Companie name:  Envision Entertainment\n",
      "---------------------------------------------------------------------\n",
      "Avg. budget:  100000000.0000 Companie name:  Really Useful Films\n",
      "---------------------------------------------------------------------\n",
      "Avg. budget:  100000000.0000 Companie name:  Hyde Park Films\n",
      "---------------------------------------------------------------------\n",
      "Avg. budget:  90000000.0000 Companie name:  Cube Vision\n",
      "---------------------------------------------------------------------\n",
      "Avg. budget:  90000000.0000 Companie name:  Count of Monte Cristo Ltd.\n",
      "---------------------------------------------------------------------\n"
     ]
    }
   ],
   "source": [
    "q = (\"\"\"\n",
    "    SELECT avg_budget,\n",
    "       comp\n",
    "    FROM\n",
    "      (SELECT AVG(movie.budget) AS avg_budget,\n",
    "          companie.name AS comp\n",
    "       FROM movie,\n",
    "        companie\n",
    "       WHERE movie.comp_id=companie.comp_id\n",
    "         AND companie.country IN ('Canada', 'USA')\n",
    "       GROUP BY comp) t\n",
    "    WHERE avg_budget > 80000000\n",
    "    ORDER BY avg_budget DESC \n",
    "    \"\"\")\n",
    "cursor.execute(q)\n",
    "data = cursor.fetchall()\n",
    "for i in data:\n",
    "    print('Avg. budget: ', i[0], 'Companie name: ', i[1])\n",
    "    print('---------------------------------------------------------------------')"
   ]
  },
  {
   "cell_type": "markdown",
   "id": "580bd591",
   "metadata": {},
   "source": [
    "**3. У какого фильма самый большой бюджет и какая у него средняя оценка зрителей (ну и число проголосовавших) ?**"
   ]
  },
  {
   "cell_type": "code",
   "execution_count": 571,
   "id": "807cd04e",
   "metadata": {},
   "outputs": [
    {
     "name": "stdout",
     "output_type": "stream",
     "text": [
      "Pirates of the Caribbean: On Stranger Tides | Budget:  380000000 | Vote Avg.:  6 | Vote Count:  4948\n"
     ]
    }
   ],
   "source": [
    "q = (\"\"\"\n",
    "    SELECT title,\n",
    "       budget,\n",
    "       vote_average,\n",
    "       vote_count\n",
    "    FROM movie\n",
    "    WHERE budget =\n",
    "        (SELECT max(budget)\n",
    "         FROM movie)\n",
    "         \"\"\")\n",
    "cursor.execute(q)\n",
    "data = cursor.fetchall()\n",
    "print(data[0][0], '| Budget: ', data[0][1], '| Vote Avg.: ', data[0][2], '| Vote Count: ', data[0][3])"
   ]
  },
  {
   "cell_type": "markdown",
   "id": "a76122e5",
   "metadata": {},
   "source": [
    "**4. А по самой большой выручке?**\n",
    "\n",
    "(запрос простой, но ведь интересно....)"
   ]
  },
  {
   "cell_type": "code",
   "execution_count": 489,
   "id": "82cfd902",
   "metadata": {},
   "outputs": [
    {
     "name": "stdout",
     "output_type": "stream",
     "text": [
      "Avatar | Revenue:  2787965087 | Vote Avg.:  7 | Vote Count:  11800\n"
     ]
    }
   ],
   "source": [
    "q = (\"\"\"\n",
    "    SELECT title,\n",
    "       revenue,\n",
    "       vote_average,\n",
    "       vote_count\n",
    "    FROM movie\n",
    "    WHERE revenue =\n",
    "        (SELECT max(revenue)\n",
    "         FROM movie)\n",
    "         \"\"\")\n",
    "cursor.execute(q)\n",
    "data = cursor.fetchall()\n",
    "print(data[0][0], '| Revenue: ', data[0][1], '| Vote Avg.: ', data[0][2], '| Vote Count: ', data[0][3])"
   ]
  },
  {
   "cell_type": "markdown",
   "id": "a8fc10c6",
   "metadata": {},
   "source": [
    "**5. Найти имена актеров, игравших в Pirates of the Caribbean , сгруппировам по частям фильма и отсортировав по дате релиза**"
   ]
  },
  {
   "cell_type": "code",
   "execution_count": 572,
   "id": "f4858c1e",
   "metadata": {},
   "outputs": [
    {
     "name": "stdout",
     "output_type": "stream",
     "text": [
      "Film title:  Pirates of the Caribbean: The Curse of the Black Pearl\n",
      "Actors list:  Aaron Douglas,Alan Cumming,Brian Cox,Bryan Singer,Chiara Zanni,Cotter Smith,Daniel Cudmore,Kea Wong,Kelly Hu,Layke Anderson,Michael Reid MacKay,Nolan Gerard Funk,Roger Cross,Shauna Kain,Steve Bacic\n",
      "----------------------------------------------\n",
      "Film title:  Pirates of the Caribbean: Dead Man's Chest\n",
      "Actors list:  Armie Hammer,Barry Pepper,Bob Rumnock,Brad Greenquist,Chad Randall,Gil Birmingham,Helena Bonham Carter,Jack Axelrod,James Badge Dale,Julie Stracener,Laina Loucks,Matt O'Leary,Nick W. Nicholson,Ruth Wilson,Ryan Koenig,Saginaw Grant,Stephen Root,Steve Corona,Tait Fletcher,Tom Wilkinson,W. Earl Brown,William Fichtner\n",
      "----------------------------------------------\n",
      "Film title:  Pirates of the Caribbean: At World's End\n",
      "Actors list:  Chow Yun-fat,David Meunier,Dominic Scott Kay,Ghassan Massoud,Hakeem Kae-Kazim,Ho-Kwan Tse,Jack Davenport,Keith Richards,Peter Donald Badalamenti II,Reggie Lee,Takayo Fischer\n",
      "----------------------------------------------\n",
      "Film title:  Pirates of the Caribbean: On Stranger Tides\n",
      "Actors list:  Alice Eve,Cayen Martin,Dan Bittner,David Rasche,Emma Thompson,Jemaine Clement,Josh Brolin,Mela Hudson,Michael Chernus,Nicole Scherzinger,Will Arnett,Will Smith\n",
      "----------------------------------------------\n"
     ]
    }
   ],
   "source": [
    "q = (\"\"\"    \n",
    "    SELECT GROUP_CONCAT(DISTINCT(actor.name), '') AS actors_list, \n",
    "       movie.title AS title \n",
    "    FROM characters_in_movies, \n",
    "         actor, \n",
    "         movie \n",
    "    WHERE characters_in_movies.char_id=actor.char_id \n",
    "      AND characters_in_movies.movie_id=movie.movie_id \n",
    "      AND movie.title LIKE '%Pirates of the Caribbean%' \n",
    "    GROUP BY title, \n",
    "         movie.release_date \n",
    "    ORDER BY movie.release_date \n",
    "    \"\"\")\n",
    "cursor.execute(q)\n",
    "data = cursor.fetchall()\n",
    "for i in data:\n",
    "    print('Film title: ', i[1])\n",
    "    print('Actors list: ', i[0])\n",
    "    print('----------------------------------------------') "
   ]
  },
  {
   "cell_type": "markdown",
   "id": "6ea7e317",
   "metadata": {},
   "source": [
    "**6. Допустим, актеры получают с фильма 0.002 от прибыли. Вывести всех актеров и общую прибыль от всех фильмов с оценкой > 7, где они играли. При этом количество символов в имени актера = 10 и дата рождения после 2000 года. Сортировка выдачи по актерам.**"
   ]
  },
  {
   "cell_type": "code",
   "execution_count": 573,
   "id": "370d9234",
   "metadata": {},
   "outputs": [
    {
     "name": "stdout",
     "output_type": "stream",
     "text": [
      "Alex Lorre gained:  3191310.500\n",
      "---------------------------------------------------------\n",
      "Bill Hader gained:  4490624.076\n",
      "---------------------------------------------------------\n",
      "Chris Rock gained:  4931383.464\n",
      "---------------------------------------------------------\n",
      "Dan Lauria gained:  1170855.000\n",
      "---------------------------------------------------------\n",
      "David Orth gained:  3127871.160\n",
      "---------------------------------------------------------\n",
      "Fran Kranz gained:  1260000.000\n",
      "---------------------------------------------------------\n",
      "Jim Carter gained:  7667200.000\n",
      "---------------------------------------------------------\n",
      "Joey Roche gained:  5557724.400\n",
      "---------------------------------------------------------\n",
      "Jon Lovitz gained:  3437057.136\n",
      "---------------------------------------------------------\n",
      "Jonah Hill gained:  4490624.076\n",
      "---------------------------------------------------------\n",
      "Joseph Rye gained:  3191310.500\n",
      "---------------------------------------------------------\n",
      "Josh Pence gained:  8679512.792\n",
      "---------------------------------------------------------\n",
      "Judy Greer gained:  1429533.144\n",
      "---------------------------------------------------------\n",
      "Mark Roper gained:  5858853.300\n",
      "---------------------------------------------------------\n",
      "Raoul Bova gained:  3191310.500\n",
      "---------------------------------------------------------\n",
      "Shawn Levy gained:  4490624.076\n",
      "---------------------------------------------------------\n",
      "Thom Barry gained:  3152967.104\n",
      "---------------------------------------------------------\n",
      "Tim Guinee gained:  3430444.696\n",
      "---------------------------------------------------------\n",
      "Vin Diesel gained:  2969272.554\n",
      "---------------------------------------------------------\n",
      "Will Estes gained:  8679512.792\n",
      "---------------------------------------------------------\n",
      "Will Smith gained:  6546381.216\n",
      "---------------------------------------------------------\n"
     ]
    }
   ],
   "source": [
    "q = (\"\"\"\n",
    "    SELECT n0,\n",
    "       sum(r1)\n",
    "    FROM (\n",
    "        (SELECT name AS n0,\n",
    "                char_id AS c0\n",
    "         FROM actor\n",
    "         WHERE DATE_FORMAT(birth_date, '%Y') > '2000' ) t0\n",
    "      RIGHT JOIN\n",
    "        (SELECT characters_in_movies.char_id AS c1,\n",
    "                movie.revenue * 0.002 AS r1,\n",
    "                movie.release_date AS d1\n",
    "         FROM characters_in_movies,\n",
    "              movie\n",
    "         WHERE characters_in_movies.movie_id = movie.movie_id\n",
    "           AND movie.vote_average > 7) t1 ON t1.c1=t0.c0)\n",
    "    WHERE LENGTH(n0) = 10\n",
    "    GROUP BY n0\n",
    "    ORDER BY n0 \n",
    "    \"\"\")\n",
    "cursor.execute(q)\n",
    "data = cursor.fetchall()\n",
    "for i in data:\n",
    "    print(i[0], 'gained: ', i[1])\n",
    "    print('---------------------------------------------------------')"
   ]
  },
  {
   "cell_type": "markdown",
   "id": "b4c09ac4",
   "metadata": {},
   "source": [
    "**Вывести названия компаний, running revenue по годам для фильмов со средней оценкой  >=7 и <= 8 с разделением по компаниям**"
   ]
  },
  {
   "cell_type": "code",
   "execution_count": 658,
   "id": "c21199ab",
   "metadata": {},
   "outputs": [
    {
     "data": {
      "text/plain": [
       "[('Ingenious Film Partners', Decimal('2787965087')),\n",
       " ('Twentieth Century Fox Film Corporation', Decimal('2787965087')),\n",
       " ('Dune Entertainment', Decimal('2787965087')),\n",
       " ('Lightstorm Entertainment', Decimal('2787965087')),\n",
       " ('Walt Disney Pictures', Decimal('961000000')),\n",
       " ('Jerry Bruckheimer Films', Decimal('961000000')),\n",
       " ('Second Mate Productions', Decimal('961000000')),\n",
       " ('Legendary Pictures', Decimal('1084939099')),\n",
       " ('Warner Bros.', Decimal('1084939099')),\n",
       " ('DC Entertainment', Decimal('1084939099')),\n",
       " ('Syncopy', Decimal('1084939099')),\n",
       " ('Prime Focus', Decimal('591794936')),\n",
       " ('Revolution Sun Studios', Decimal('591794936')),\n",
       " ('Heyday Films', Decimal('1405403694')),\n",
       " ('DC Comics', Decimal('1405403694'))]"
      ]
     },
     "execution_count": 658,
     "metadata": {},
     "output_type": "execute_result"
    }
   ],
   "source": [
    "q = (\"\"\"\n",
    "    SELECT name,\n",
    "       r\n",
    "    FROM (\n",
    "        (SELECT comp_id,\n",
    "                SUM(revenue) OVER (PARTITION BY comp_id\n",
    "                                   ORDER BY DATE_FORMAT(release_date, \"%Y\")) AS r\n",
    "         FROM movie\n",
    "         WHERE vote_average BETWEEN 7 AND 8 ) t0\n",
    "      LEFT JOIN\n",
    "        (SELECT name,\n",
    "                comp_id AS c1\n",
    "         FROM companie) t1 ON t0.comp_id=t1.c1)\n",
    "    \"\"\")\n",
    "cursor.execute(q)\n",
    "data = cursor.fetchall()\n",
    "data[0:15] # я не буду совсем все принтить"
   ]
  },
  {
   "cell_type": "code",
   "execution_count": 659,
   "id": "7f5d5964",
   "metadata": {},
   "outputs": [
    {
     "data": {
      "text/plain": [
       "5862"
      ]
     },
     "execution_count": 659,
     "metadata": {},
     "output_type": "execute_result"
    }
   ],
   "source": [
    "len(data)"
   ]
  },
  {
   "cell_type": "markdown",
   "id": "bf9b2298",
   "metadata": {},
   "source": [
    "А остальное с графиками в приложении   ¯\\_(ツ)_/¯"
   ]
  }
 ],
 "metadata": {
  "kernelspec": {
   "display_name": "Python 3 (ipykernel)",
   "language": "python",
   "name": "python3"
  },
  "language_info": {
   "codemirror_mode": {
    "name": "ipython",
    "version": 3
   },
   "file_extension": ".py",
   "mimetype": "text/x-python",
   "name": "python",
   "nbconvert_exporter": "python",
   "pygments_lexer": "ipython3",
   "version": "3.9.7"
  }
 },
 "nbformat": 4,
 "nbformat_minor": 5
}
